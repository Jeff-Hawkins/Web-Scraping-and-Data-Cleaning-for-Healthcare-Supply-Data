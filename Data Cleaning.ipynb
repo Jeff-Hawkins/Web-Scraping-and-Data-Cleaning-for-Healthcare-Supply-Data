{
 "cells": [
  {
   "cell_type": "markdown",
   "id": "6ae751c6-e197-4a80-8fa1-b60a831274fd",
   "metadata": {},
   "source": [
    "# Cleaning the Data"
   ]
  },
  {
   "cell_type": "code",
   "execution_count": null,
   "id": "7b8b2b8c-2346-42c5-aff4-0e8da233cc42",
   "metadata": {},
   "outputs": [],
   "source": [
    "import pandas as pd\n",
    "\n",
    "# Load the provided Excel file with the combined dataset\n",
    "input_file = '/path/to/Combined_Data.xlsx'\n",
    "\n",
    "# Load the combined data\n",
    "data = pd.read_excel(input_file)\n",
    "\n",
    "# Standardize column names by stripping leading/trailing spaces\n",
    "data.columns = data.columns.str.strip()\n",
    "\n",
    "# Dynamically determine the correct column name for item numbers\n",
    "if 'Item #' in data.columns:\n",
    "    item_column = 'Item #'\n",
    "elif 'Item No.' in data.columns:\n",
    "    item_column = 'Item No.'\n",
    "else:\n",
    "    raise KeyError(\"No valid item number column found in the data.\")\n",
    "\n",
    "# Dynamically detect the manufacturer item column name\n",
    "if 'Mfr #' in data.columns:\n",
    "    mfr_item_column = 'Mfr #'\n",
    "elif 'Mfr item #' in data.columns:\n",
    "    mfr_item_column = 'Mfr item #'\n",
    "else:\n",
    "    raise KeyError(\"No valid manufacturer item number column found in the data.\")\n",
    "\n",
    "# Convert item numbers to strings and handle invalid entries\n",
    "data[item_column] = data[item_column].apply(\n",
    "    lambda x: str(int(x)) if pd.notna(x) and str(x).replace(\".0\", \"\").isdigit() else None\n",
    ")\n",
    "\n",
    "# Drop rows with missing or invalid item numbers\n",
    "data = data.dropna(subset=[item_column])\n",
    "\n",
    "# Log the number of rows remaining after cleaning\n",
    "print(f\"Rows remaining after cleaning invalid item numbers: {len(data)}\")\n",
    "\n",
    "# Save cleaned data for verification\n",
    "cleaned_file = '/path/to/Updated_Mfg_Name_Search.xlsx'\n",
    "data.to_excel(cleaned_file, index=False)\n",
    "print(f\"Cleaned data saved to {cleaned_file}\")"
   ]
  },
  {
   "cell_type": "code",
   "execution_count": null,
   "id": "2438b9fb-2528-43ef-b387-31ce19edb253",
   "metadata": {},
   "outputs": [],
   "source": []
  }
 ],
 "metadata": {
  "kernelspec": {
   "display_name": "Python 3 (ipykernel)",
   "language": "python",
   "name": "python3"
  },
  "language_info": {
   "codemirror_mode": {
    "name": "ipython",
    "version": 3
   },
   "file_extension": ".py",
   "mimetype": "text/x-python",
   "name": "python",
   "nbconvert_exporter": "python",
   "pygments_lexer": "ipython3",
   "version": "3.12.4"
  }
 },
 "nbformat": 4,
 "nbformat_minor": 5
}
